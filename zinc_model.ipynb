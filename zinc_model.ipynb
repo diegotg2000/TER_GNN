{
 "cells": [
  {
   "cell_type": "code",
   "execution_count": 1,
   "metadata": {},
   "outputs": [
    {
     "name": "stderr",
     "output_type": "stream",
     "text": [
      "/home/diego/miniconda3/envs/ter_gnn/lib/python3.10/site-packages/tqdm/auto.py:22: TqdmWarning: IProgress not found. Please update jupyter and ipywidgets. See https://ipywidgets.readthedocs.io/en/stable/user_install.html\n",
      "  from .autonotebook import tqdm as notebook_tqdm\n"
     ]
    }
   ],
   "source": [
    "import numpy as np\n",
    "import pandas as pd\n",
    "import torch\n",
    "import torch.nn as nn\n",
    "from torch.nn.functional import one_hot\n",
    "import torch_geometric as pyg\n",
    "import networkx as nx\n",
    "import torch.nn.functional as F\n",
    "from torch_geometric.datasets import ZINC\n",
    "from torch_geometric.utils import to_networkx\n",
    "from torch_geometric.loader import DataLoader\n",
    "import matplotlib.pyplot as plt"
   ]
  },
  {
   "cell_type": "code",
   "execution_count": 2,
   "metadata": {},
   "outputs": [],
   "source": [
    "from gcn_model import GCNNet, GCN"
   ]
  },
  {
   "cell_type": "code",
   "execution_count": 3,
   "metadata": {},
   "outputs": [
    {
     "data": {
      "text/plain": [
       "device(type='cuda')"
      ]
     },
     "execution_count": 3,
     "metadata": {},
     "output_type": "execute_result"
    }
   ],
   "source": [
    "device = torch.device('cuda' if torch.cuda.is_available() else 'cpu')\n",
    "device"
   ]
  },
  {
   "cell_type": "code",
   "execution_count": 4,
   "metadata": {},
   "outputs": [],
   "source": [
    "train_ds = ZINC(root='./data/zinc/', subset=True, split='train')\n",
    "test_ds = ZINC(root='./data/zinc/', subset=True, split='test')"
   ]
  },
  {
   "cell_type": "code",
   "execution_count": 5,
   "metadata": {},
   "outputs": [
    {
     "data": {
      "text/plain": [
       "10000"
      ]
     },
     "execution_count": 5,
     "metadata": {},
     "output_type": "execute_result"
    }
   ],
   "source": [
    "len(train_ds)"
   ]
  },
  {
   "cell_type": "code",
   "execution_count": 6,
   "metadata": {},
   "outputs": [
    {
     "data": {
      "text/plain": [
       "1000"
      ]
     },
     "execution_count": 6,
     "metadata": {},
     "output_type": "execute_result"
    }
   ],
   "source": [
    "len(test_ds)"
   ]
  },
  {
   "cell_type": "code",
   "execution_count": 7,
   "metadata": {},
   "outputs": [],
   "source": [
    "train_loader = DataLoader(train_ds, batch_size=32, shuffle=True)\n",
    "test_loader = DataLoader(test_ds, batch_size=32, shuffle=False)"
   ]
  },
  {
   "cell_type": "code",
   "execution_count": 15,
   "metadata": {},
   "outputs": [],
   "source": [
    "MODEL_PARAMS = {\n",
    "    'GCN': {\n",
    "        'channels': [\n",
    "            21,\n",
    "            16,\n",
    "            16\n",
    "        ]\n",
    "    },\n",
    "    'MLP': {\n",
    "        'channels': [\n",
    "            16,\n",
    "            10,\n",
    "            1\n",
    "        ]\n",
    "    }\n",
    "}"
   ]
  },
  {
   "cell_type": "code",
   "execution_count": 16,
   "metadata": {},
   "outputs": [],
   "source": [
    "model = GCNNet(MODEL_PARAMS).to(device)"
   ]
  },
  {
   "cell_type": "code",
   "execution_count": 17,
   "metadata": {},
   "outputs": [
    {
     "name": "stdout",
     "output_type": "stream",
     "text": [
      "torch.Size([16])\n",
      "torch.Size([16, 21])\n",
      "torch.Size([16])\n",
      "torch.Size([16, 16])\n",
      "torch.Size([10, 16])\n",
      "torch.Size([10])\n",
      "torch.Size([1, 10])\n",
      "torch.Size([1])\n"
     ]
    }
   ],
   "source": [
    "for params in model.parameters():\n",
    "    print(params.shape)"
   ]
  },
  {
   "cell_type": "code",
   "execution_count": 18,
   "metadata": {},
   "outputs": [],
   "source": [
    "optimizer = torch.optim.Adam(model.parameters(), lr=0.0001, weight_decay=5e-4)"
   ]
  },
  {
   "cell_type": "code",
   "execution_count": 19,
   "metadata": {},
   "outputs": [],
   "source": [
    "loss = nn.MSELoss()"
   ]
  },
  {
   "cell_type": "code",
   "execution_count": 20,
   "metadata": {},
   "outputs": [],
   "source": [
    "def train(model, train_loader, optimizer, loss):\n",
    "    model.train()\n",
    "    loss_acc = 0\n",
    "    total_graphs = 0\n",
    "    for graph_batch in train_loader:\n",
    "        graph_batch = graph_batch.to(device)\n",
    "        optimizer.zero_grad()\n",
    "        \n",
    "        x_oh = one_hot(graph_batch.x.flatten(), num_classes=21).type(torch.cuda.FloatTensor)\n",
    "        preds = model(x_oh, graph_batch.edge_index, graph_batch.batch).squeeze()\n",
    "        loss_val = loss(preds, graph_batch.y)\n",
    "        loss_acc += loss_val.item()\n",
    "        total_graphs += graph_batch.num_graphs\n",
    "        loss_val.backward()\n",
    "        optimizer.step()\n",
    "        \n",
    "    loss_acc /= total_graphs\n",
    "    return loss_acc"
   ]
  },
  {
   "cell_type": "code",
   "execution_count": 21,
   "metadata": {},
   "outputs": [],
   "source": [
    "from sklearn.metrics import r2_score\n",
    "\n",
    "def validate(model, valid_loader, loss):\n",
    "    model.eval()\n",
    "    loss_acc = 0\n",
    "    total_graphs = 0\n",
    "    total_preds = []\n",
    "    labels = []\n",
    "    with torch.no_grad():\n",
    "        for graph_batch in valid_loader:\n",
    "            graph_batch = graph_batch.to(device)\n",
    "            x_oh = one_hot(graph_batch.x.flatten(), num_classes=21).type(torch.cuda.FloatTensor)\n",
    "            preds = model(x_oh, graph_batch.edge_index, graph_batch.batch).squeeze()\n",
    "            loss_val = loss(preds, graph_batch.y)\n",
    "            loss_acc += loss_val.item()\n",
    "            total_graphs += graph_batch.num_graphs\n",
    "            total_preds.extend(preds.cpu().numpy())\n",
    "            labels.extend(graph_batch.y.cpu().numpy())\n",
    "\n",
    "    r2 = r2_score(labels, total_preds)            \n",
    "    loss_acc /= total_graphs\n",
    "    return loss_acc, r2"
   ]
  },
  {
   "cell_type": "code",
   "execution_count": 22,
   "metadata": {},
   "outputs": [
    {
     "name": "stdout",
     "output_type": "stream",
     "text": [
      "EPOCH: 1\n",
      "Training...\n",
      "Training Loss: 0.12742989996671678\n",
      "Validating\n",
      "Validation Loss: 0.13162272906303404\n",
      "Accuracy: -0.004510924093766633\n",
      "EPOCH: 2\n",
      "Training...\n",
      "Training Loss: 0.1267676159620285\n",
      "Validating\n",
      "Validation Loss: 0.1310012185573578\n",
      "Accuracy: 0.0006444466647653746\n",
      "EPOCH: 3\n",
      "Training...\n",
      "Training Loss: 0.12625205079317092\n",
      "Validating\n",
      "Validation Loss: 0.13028756546974182\n",
      "Accuracy: 0.006532424928695213\n"
     ]
    }
   ],
   "source": [
    "train_loss = []\n",
    "test_loss = []\n",
    "valid_accuracy = []\n",
    "for epoch in range(3):\n",
    "    print('EPOCH:', epoch+1)\n",
    "    print('Training...')\n",
    "    loss_value = train(model, train_loader, optimizer, loss)\n",
    "    train_loss.append(loss_value)\n",
    "    print('Training Loss:', loss_value)\n",
    "\n",
    "    print('Validating')\n",
    "    loss_value, accuracy = validate(model, test_loader, loss)\n",
    "    test_loss.append(loss_value)\n",
    "    valid_accuracy.append(accuracy.item())\n",
    "    print('Validation Loss:', loss_value)\n",
    "    print('Accuracy:', accuracy.item())\n"
   ]
  },
  {
   "cell_type": "code",
   "execution_count": null,
   "metadata": {},
   "outputs": [],
   "source": []
  }
 ],
 "metadata": {
  "kernelspec": {
   "display_name": "ter_gnn",
   "language": "python",
   "name": "python3"
  },
  "language_info": {
   "codemirror_mode": {
    "name": "ipython",
    "version": 3
   },
   "file_extension": ".py",
   "mimetype": "text/x-python",
   "name": "python",
   "nbconvert_exporter": "python",
   "pygments_lexer": "ipython3",
   "version": "3.10.9"
  },
  "orig_nbformat": 4,
  "vscode": {
   "interpreter": {
    "hash": "282a862948b9ec0cd66669a592502e9dc15238303e523a95c2979bdbd3f2c0d7"
   }
  }
 },
 "nbformat": 4,
 "nbformat_minor": 2
}
